{
 "cells": [
  {
   "cell_type": "code",
   "execution_count": null,
   "metadata": {},
   "outputs": [],
   "source": [
    "def loadData():\n",
    "    file_path = \"Documents/Projects/Python Projects/Webscraping/robobrowser/cryptopanic/cryptopanic_scraper/data/cryptopanic_hot_2018-09-21->2019-02-04.pickle\"\n",
    "    # Save the website data\n",
    "    file_name = \"cryptopanic_hot_2019-02-03 11:10:04->2019-02-04 15:00:46.pickle\"\n",
    "    with open(file_name, 'rb') as f:\n",
    "        return pickle.load(f)"
   ]
  }
 ],
 "metadata": {
  "kernelspec": {
   "display_name": "Python 3",
   "language": "python",
   "name": "python3"
  },
  "language_info": {
   "codemirror_mode": {
    "name": "ipython",
    "version": 3
   },
   "file_extension": ".py",
   "mimetype": "text/x-python",
   "name": "python",
   "nbconvert_exporter": "python",
   "pygments_lexer": "ipython3",
   "version": "3.6.6"
  }
 },
 "nbformat": 4,
 "nbformat_minor": 2
}
